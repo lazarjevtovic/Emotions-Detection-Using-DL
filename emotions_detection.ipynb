{
  "nbformat": 4,
  "nbformat_minor": 0,
  "metadata": {
    "colab": {
      "provenance": [],
      "gpuType": "T4",
      "authorship_tag": "ABX9TyNm6XvviIAzKmvMK/PpHnDc",
      "include_colab_link": true
    },
    "kernelspec": {
      "name": "python3",
      "display_name": "Python 3"
    },
    "language_info": {
      "name": "python"
    },
    "accelerator": "GPU"
  },
  "cells": [
    {
      "cell_type": "markdown",
      "metadata": {
        "id": "view-in-github",
        "colab_type": "text"
      },
      "source": [
        "<a href=\"https://colab.research.google.com/github/lazarjevtovic/Emotions-Detection-Using-DL/blob/main/emotions_detection.ipynb\" target=\"_parent\"><img src=\"https://colab.research.google.com/assets/colab-badge.svg\" alt=\"Open In Colab\"/></a>"
      ]
    },
    {
      "cell_type": "markdown",
      "source": [
        "# Emotions detection using neural networks\n",
        "This notebook demonstrates a step-by-step implementation of a model that classifies text in 6 classes - emotions."
      ],
      "metadata": {
        "id": "qMwMitNUFRnj"
      }
    },
    {
      "cell_type": "markdown",
      "source": [
        "## 1. Data Loading\n",
        "Dataset used in the project: https://www.kaggle.com/datasets/nelgiriyewithana/emotions"
      ],
      "metadata": {
        "id": "MDdojOh6wBvT"
      }
    },
    {
      "cell_type": "code",
      "source": [
        "import kagglehub\n",
        "\n",
        "# Download latest version\n",
        "path = kagglehub.dataset_download(\"nelgiriyewithana/emotions\")\n",
        "\n",
        "print(\"Path to dataset files:\", path)"
      ],
      "metadata": {
        "colab": {
          "base_uri": "https://localhost:8080/"
        },
        "id": "hD7zQj7MFXBo",
        "outputId": "3b9bab52-1cc7-46df-f6d3-bcdba458f69e"
      },
      "execution_count": null,
      "outputs": [
        {
          "output_type": "stream",
          "name": "stdout",
          "text": [
            "Warning: Looks like you're using an outdated `kagglehub` version (installed: 0.3.7), please consider upgrading to the latest version (0.3.8).\n",
            "Downloading from https://www.kaggle.com/api/v1/datasets/download/nelgiriyewithana/emotions?dataset_version_number=1...\n"
          ]
        },
        {
          "output_type": "stream",
          "name": "stderr",
          "text": [
            "100%|██████████| 15.7M/15.7M [00:00<00:00, 52.5MB/s]"
          ]
        },
        {
          "output_type": "stream",
          "name": "stdout",
          "text": [
            "Extracting files...\n"
          ]
        },
        {
          "output_type": "stream",
          "name": "stderr",
          "text": [
            "\n"
          ]
        },
        {
          "output_type": "stream",
          "name": "stdout",
          "text": [
            "Path to dataset files: /root/.cache/kagglehub/datasets/nelgiriyewithana/emotions/versions/1\n"
          ]
        }
      ]
    },
    {
      "cell_type": "code",
      "source": [
        "import pandas as pd\n",
        "\n",
        "df = pd.read_csv(\"/root/.cache/kagglehub/datasets/nelgiriyewithana/emotions/versions/1/text.csv\", index_col = 0)\n",
        "df"
      ],
      "metadata": {
        "colab": {
          "base_uri": "https://localhost:8080/",
          "height": 424
        },
        "id": "8e-FzV0xFbFA",
        "outputId": "172eb909-de41-4e0c-862b-b6e0a95b86c7"
      },
      "execution_count": null,
      "outputs": [
        {
          "output_type": "execute_result",
          "data": {
            "text/plain": [
              "                                                     text  label\n",
              "0           i just feel really helpless and heavy hearted      4\n",
              "1       ive enjoyed being able to slouch about relax a...      0\n",
              "2       i gave up my internship with the dmrg and am f...      4\n",
              "3                              i dont know i feel so lost      0\n",
              "4       i am a kindergarten teacher and i am thoroughl...      4\n",
              "...                                                   ...    ...\n",
              "416804  i feel like telling these horny devils to find...      2\n",
              "416805  i began to realize that when i was feeling agi...      3\n",
              "416806  i feel very curious be why previous early dawn...      5\n",
              "416807  i feel that becuase of the tyranical nature of...      3\n",
              "416808  i think that after i had spent some time inves...      5\n",
              "\n",
              "[416809 rows x 2 columns]"
            ],
            "text/html": [
              "\n",
              "  <div id=\"df-3bc706b4-34ae-4ca0-b08a-ed15b60bbd20\" class=\"colab-df-container\">\n",
              "    <div>\n",
              "<style scoped>\n",
              "    .dataframe tbody tr th:only-of-type {\n",
              "        vertical-align: middle;\n",
              "    }\n",
              "\n",
              "    .dataframe tbody tr th {\n",
              "        vertical-align: top;\n",
              "    }\n",
              "\n",
              "    .dataframe thead th {\n",
              "        text-align: right;\n",
              "    }\n",
              "</style>\n",
              "<table border=\"1\" class=\"dataframe\">\n",
              "  <thead>\n",
              "    <tr style=\"text-align: right;\">\n",
              "      <th></th>\n",
              "      <th>text</th>\n",
              "      <th>label</th>\n",
              "    </tr>\n",
              "  </thead>\n",
              "  <tbody>\n",
              "    <tr>\n",
              "      <th>0</th>\n",
              "      <td>i just feel really helpless and heavy hearted</td>\n",
              "      <td>4</td>\n",
              "    </tr>\n",
              "    <tr>\n",
              "      <th>1</th>\n",
              "      <td>ive enjoyed being able to slouch about relax a...</td>\n",
              "      <td>0</td>\n",
              "    </tr>\n",
              "    <tr>\n",
              "      <th>2</th>\n",
              "      <td>i gave up my internship with the dmrg and am f...</td>\n",
              "      <td>4</td>\n",
              "    </tr>\n",
              "    <tr>\n",
              "      <th>3</th>\n",
              "      <td>i dont know i feel so lost</td>\n",
              "      <td>0</td>\n",
              "    </tr>\n",
              "    <tr>\n",
              "      <th>4</th>\n",
              "      <td>i am a kindergarten teacher and i am thoroughl...</td>\n",
              "      <td>4</td>\n",
              "    </tr>\n",
              "    <tr>\n",
              "      <th>...</th>\n",
              "      <td>...</td>\n",
              "      <td>...</td>\n",
              "    </tr>\n",
              "    <tr>\n",
              "      <th>416804</th>\n",
              "      <td>i feel like telling these horny devils to find...</td>\n",
              "      <td>2</td>\n",
              "    </tr>\n",
              "    <tr>\n",
              "      <th>416805</th>\n",
              "      <td>i began to realize that when i was feeling agi...</td>\n",
              "      <td>3</td>\n",
              "    </tr>\n",
              "    <tr>\n",
              "      <th>416806</th>\n",
              "      <td>i feel very curious be why previous early dawn...</td>\n",
              "      <td>5</td>\n",
              "    </tr>\n",
              "    <tr>\n",
              "      <th>416807</th>\n",
              "      <td>i feel that becuase of the tyranical nature of...</td>\n",
              "      <td>3</td>\n",
              "    </tr>\n",
              "    <tr>\n",
              "      <th>416808</th>\n",
              "      <td>i think that after i had spent some time inves...</td>\n",
              "      <td>5</td>\n",
              "    </tr>\n",
              "  </tbody>\n",
              "</table>\n",
              "<p>416809 rows × 2 columns</p>\n",
              "</div>\n",
              "    <div class=\"colab-df-buttons\">\n",
              "\n",
              "  <div class=\"colab-df-container\">\n",
              "    <button class=\"colab-df-convert\" onclick=\"convertToInteractive('df-3bc706b4-34ae-4ca0-b08a-ed15b60bbd20')\"\n",
              "            title=\"Convert this dataframe to an interactive table.\"\n",
              "            style=\"display:none;\">\n",
              "\n",
              "  <svg xmlns=\"http://www.w3.org/2000/svg\" height=\"24px\" viewBox=\"0 -960 960 960\">\n",
              "    <path d=\"M120-120v-720h720v720H120Zm60-500h600v-160H180v160Zm220 220h160v-160H400v160Zm0 220h160v-160H400v160ZM180-400h160v-160H180v160Zm440 0h160v-160H620v160ZM180-180h160v-160H180v160Zm440 0h160v-160H620v160Z\"/>\n",
              "  </svg>\n",
              "    </button>\n",
              "\n",
              "  <style>\n",
              "    .colab-df-container {\n",
              "      display:flex;\n",
              "      gap: 12px;\n",
              "    }\n",
              "\n",
              "    .colab-df-convert {\n",
              "      background-color: #E8F0FE;\n",
              "      border: none;\n",
              "      border-radius: 50%;\n",
              "      cursor: pointer;\n",
              "      display: none;\n",
              "      fill: #1967D2;\n",
              "      height: 32px;\n",
              "      padding: 0 0 0 0;\n",
              "      width: 32px;\n",
              "    }\n",
              "\n",
              "    .colab-df-convert:hover {\n",
              "      background-color: #E2EBFA;\n",
              "      box-shadow: 0px 1px 2px rgba(60, 64, 67, 0.3), 0px 1px 3px 1px rgba(60, 64, 67, 0.15);\n",
              "      fill: #174EA6;\n",
              "    }\n",
              "\n",
              "    .colab-df-buttons div {\n",
              "      margin-bottom: 4px;\n",
              "    }\n",
              "\n",
              "    [theme=dark] .colab-df-convert {\n",
              "      background-color: #3B4455;\n",
              "      fill: #D2E3FC;\n",
              "    }\n",
              "\n",
              "    [theme=dark] .colab-df-convert:hover {\n",
              "      background-color: #434B5C;\n",
              "      box-shadow: 0px 1px 3px 1px rgba(0, 0, 0, 0.15);\n",
              "      filter: drop-shadow(0px 1px 2px rgba(0, 0, 0, 0.3));\n",
              "      fill: #FFFFFF;\n",
              "    }\n",
              "  </style>\n",
              "\n",
              "    <script>\n",
              "      const buttonEl =\n",
              "        document.querySelector('#df-3bc706b4-34ae-4ca0-b08a-ed15b60bbd20 button.colab-df-convert');\n",
              "      buttonEl.style.display =\n",
              "        google.colab.kernel.accessAllowed ? 'block' : 'none';\n",
              "\n",
              "      async function convertToInteractive(key) {\n",
              "        const element = document.querySelector('#df-3bc706b4-34ae-4ca0-b08a-ed15b60bbd20');\n",
              "        const dataTable =\n",
              "          await google.colab.kernel.invokeFunction('convertToInteractive',\n",
              "                                                    [key], {});\n",
              "        if (!dataTable) return;\n",
              "\n",
              "        const docLinkHtml = 'Like what you see? Visit the ' +\n",
              "          '<a target=\"_blank\" href=https://colab.research.google.com/notebooks/data_table.ipynb>data table notebook</a>'\n",
              "          + ' to learn more about interactive tables.';\n",
              "        element.innerHTML = '';\n",
              "        dataTable['output_type'] = 'display_data';\n",
              "        await google.colab.output.renderOutput(dataTable, element);\n",
              "        const docLink = document.createElement('div');\n",
              "        docLink.innerHTML = docLinkHtml;\n",
              "        element.appendChild(docLink);\n",
              "      }\n",
              "    </script>\n",
              "  </div>\n",
              "\n",
              "\n",
              "<div id=\"df-2d5e4dcc-8d8d-46fa-817f-253880d1c7c4\">\n",
              "  <button class=\"colab-df-quickchart\" onclick=\"quickchart('df-2d5e4dcc-8d8d-46fa-817f-253880d1c7c4')\"\n",
              "            title=\"Suggest charts\"\n",
              "            style=\"display:none;\">\n",
              "\n",
              "<svg xmlns=\"http://www.w3.org/2000/svg\" height=\"24px\"viewBox=\"0 0 24 24\"\n",
              "     width=\"24px\">\n",
              "    <g>\n",
              "        <path d=\"M19 3H5c-1.1 0-2 .9-2 2v14c0 1.1.9 2 2 2h14c1.1 0 2-.9 2-2V5c0-1.1-.9-2-2-2zM9 17H7v-7h2v7zm4 0h-2V7h2v10zm4 0h-2v-4h2v4z\"/>\n",
              "    </g>\n",
              "</svg>\n",
              "  </button>\n",
              "\n",
              "<style>\n",
              "  .colab-df-quickchart {\n",
              "      --bg-color: #E8F0FE;\n",
              "      --fill-color: #1967D2;\n",
              "      --hover-bg-color: #E2EBFA;\n",
              "      --hover-fill-color: #174EA6;\n",
              "      --disabled-fill-color: #AAA;\n",
              "      --disabled-bg-color: #DDD;\n",
              "  }\n",
              "\n",
              "  [theme=dark] .colab-df-quickchart {\n",
              "      --bg-color: #3B4455;\n",
              "      --fill-color: #D2E3FC;\n",
              "      --hover-bg-color: #434B5C;\n",
              "      --hover-fill-color: #FFFFFF;\n",
              "      --disabled-bg-color: #3B4455;\n",
              "      --disabled-fill-color: #666;\n",
              "  }\n",
              "\n",
              "  .colab-df-quickchart {\n",
              "    background-color: var(--bg-color);\n",
              "    border: none;\n",
              "    border-radius: 50%;\n",
              "    cursor: pointer;\n",
              "    display: none;\n",
              "    fill: var(--fill-color);\n",
              "    height: 32px;\n",
              "    padding: 0;\n",
              "    width: 32px;\n",
              "  }\n",
              "\n",
              "  .colab-df-quickchart:hover {\n",
              "    background-color: var(--hover-bg-color);\n",
              "    box-shadow: 0 1px 2px rgba(60, 64, 67, 0.3), 0 1px 3px 1px rgba(60, 64, 67, 0.15);\n",
              "    fill: var(--button-hover-fill-color);\n",
              "  }\n",
              "\n",
              "  .colab-df-quickchart-complete:disabled,\n",
              "  .colab-df-quickchart-complete:disabled:hover {\n",
              "    background-color: var(--disabled-bg-color);\n",
              "    fill: var(--disabled-fill-color);\n",
              "    box-shadow: none;\n",
              "  }\n",
              "\n",
              "  .colab-df-spinner {\n",
              "    border: 2px solid var(--fill-color);\n",
              "    border-color: transparent;\n",
              "    border-bottom-color: var(--fill-color);\n",
              "    animation:\n",
              "      spin 1s steps(1) infinite;\n",
              "  }\n",
              "\n",
              "  @keyframes spin {\n",
              "    0% {\n",
              "      border-color: transparent;\n",
              "      border-bottom-color: var(--fill-color);\n",
              "      border-left-color: var(--fill-color);\n",
              "    }\n",
              "    20% {\n",
              "      border-color: transparent;\n",
              "      border-left-color: var(--fill-color);\n",
              "      border-top-color: var(--fill-color);\n",
              "    }\n",
              "    30% {\n",
              "      border-color: transparent;\n",
              "      border-left-color: var(--fill-color);\n",
              "      border-top-color: var(--fill-color);\n",
              "      border-right-color: var(--fill-color);\n",
              "    }\n",
              "    40% {\n",
              "      border-color: transparent;\n",
              "      border-right-color: var(--fill-color);\n",
              "      border-top-color: var(--fill-color);\n",
              "    }\n",
              "    60% {\n",
              "      border-color: transparent;\n",
              "      border-right-color: var(--fill-color);\n",
              "    }\n",
              "    80% {\n",
              "      border-color: transparent;\n",
              "      border-right-color: var(--fill-color);\n",
              "      border-bottom-color: var(--fill-color);\n",
              "    }\n",
              "    90% {\n",
              "      border-color: transparent;\n",
              "      border-bottom-color: var(--fill-color);\n",
              "    }\n",
              "  }\n",
              "</style>\n",
              "\n",
              "  <script>\n",
              "    async function quickchart(key) {\n",
              "      const quickchartButtonEl =\n",
              "        document.querySelector('#' + key + ' button');\n",
              "      quickchartButtonEl.disabled = true;  // To prevent multiple clicks.\n",
              "      quickchartButtonEl.classList.add('colab-df-spinner');\n",
              "      try {\n",
              "        const charts = await google.colab.kernel.invokeFunction(\n",
              "            'suggestCharts', [key], {});\n",
              "      } catch (error) {\n",
              "        console.error('Error during call to suggestCharts:', error);\n",
              "      }\n",
              "      quickchartButtonEl.classList.remove('colab-df-spinner');\n",
              "      quickchartButtonEl.classList.add('colab-df-quickchart-complete');\n",
              "    }\n",
              "    (() => {\n",
              "      let quickchartButtonEl =\n",
              "        document.querySelector('#df-2d5e4dcc-8d8d-46fa-817f-253880d1c7c4 button');\n",
              "      quickchartButtonEl.style.display =\n",
              "        google.colab.kernel.accessAllowed ? 'block' : 'none';\n",
              "    })();\n",
              "  </script>\n",
              "</div>\n",
              "    </div>\n",
              "  </div>\n"
            ],
            "application/vnd.google.colaboratory.intrinsic+json": {
              "type": "dataframe",
              "variable_name": "df"
            }
          },
          "metadata": {},
          "execution_count": 2
        }
      ]
    },
    {
      "cell_type": "code",
      "source": [
        "# Label meanings\n",
        "emotions = {0:\"sadness\", 1:\"joy\", 2:\"love\", 3:\"anger\", 4:\"fear\", 5:\"surprise\"}"
      ],
      "metadata": {
        "id": "ejJx5i4-J7C-"
      },
      "execution_count": null,
      "outputs": []
    },
    {
      "cell_type": "markdown",
      "source": [
        "## 2. Data Preprocessing"
      ],
      "metadata": {
        "id": "7rworrGZwVQn"
      }
    },
    {
      "cell_type": "markdown",
      "source": [
        "Splitting data into train and test datasets"
      ],
      "metadata": {
        "id": "4xq8N93swxUz"
      }
    },
    {
      "cell_type": "code",
      "source": [
        "from sklearn.model_selection import train_test_split\n",
        "import numpy as np\n",
        "\n",
        "TEST_SIZE = 0.2\n",
        "\n",
        "train_text, test_text, train_labels, test_labels = train_test_split(df[\"text\"].to_numpy(), df[\"label\"].to_numpy(), test_size = TEST_SIZE, random_state = 42)\n",
        "\n",
        "len(train_text), len(test_text), len(train_labels), len(test_labels)"
      ],
      "metadata": {
        "colab": {
          "base_uri": "https://localhost:8080/"
        },
        "id": "ImWKFrElIXNr",
        "outputId": "e51603ca-30e9-4810-aabf-b184dee96575"
      },
      "execution_count": null,
      "outputs": [
        {
          "output_type": "execute_result",
          "data": {
            "text/plain": [
              "(333447, 83362, 333447, 83362)"
            ]
          },
          "metadata": {},
          "execution_count": 4
        }
      ]
    },
    {
      "cell_type": "code",
      "source": [
        "# Looking into dataset\n",
        "train_text[:10], train_labels[:10]"
      ],
      "metadata": {
        "colab": {
          "base_uri": "https://localhost:8080/"
        },
        "id": "-vkPM7HFIzF2",
        "outputId": "9094ee43-622b-460c-8616-f57a60c6d991"
      },
      "execution_count": null,
      "outputs": [
        {
          "output_type": "execute_result",
          "data": {
            "text/plain": [
              "(array(['ive blabbed on enough for tonight im tired and ive been feeling pretty crappy from this kentucky weather',\n",
              "        'i woke up really early this morning and drove in and i just feel ecstatic about everything getting your photo taken people wanting you to wear their clothes i love all of it',\n",
              "        'i feel i never gave myself a rest day after the megabrick because i was feeling stubborn and belligerent and my legs are waaaaaaay tired i keep pressing on with the scheduled workouts ignoring the numbers watch for the most part and trying to keep disappointment far off my radar',\n",
              "        'i am feeling restless teary flat sad and strange today',\n",
              "        'i feel like im doomed before ive even began',\n",
              "        'i feel agitated i want to do stuff well that s totally fine',\n",
              "        'i feel a lot of positive intention behind it',\n",
              "        'i feel ashamed with such prolific exc',\n",
              "        'i start to feel lonely again',\n",
              "        'i want it to be understood well received i want it to feel comfortable as it unfolds'],\n",
              "       dtype=object),\n",
              " array([0, 1, 3, 4, 0, 3, 1, 0, 0, 1]))"
            ]
          },
          "metadata": {},
          "execution_count": 5
        }
      ]
    },
    {
      "cell_type": "markdown",
      "source": [
        "Encoding label values"
      ],
      "metadata": {
        "id": "6tsBP6t7w6ru"
      }
    },
    {
      "cell_type": "code",
      "source": [
        "from sklearn.preprocessing import OneHotEncoder\n",
        "\n",
        "one_hot = OneHotEncoder(sparse_output=False)\n",
        "train_labels_one_hot = one_hot.fit_transform(train_labels.reshape(-1, 1))\n",
        "test_labels_one_hot = one_hot.fit_transform(test_labels.reshape(-1, 1))\n",
        "\n",
        "train_labels_one_hot"
      ],
      "metadata": {
        "colab": {
          "base_uri": "https://localhost:8080/"
        },
        "id": "NazuL9hHX1DI",
        "outputId": "9670fa05-9151-4715-c52e-f07958155651"
      },
      "execution_count": null,
      "outputs": [
        {
          "output_type": "execute_result",
          "data": {
            "text/plain": [
              "array([[1., 0., 0., 0., 0., 0.],\n",
              "       [0., 1., 0., 0., 0., 0.],\n",
              "       [0., 0., 0., 1., 0., 0.],\n",
              "       ...,\n",
              "       [0., 0., 0., 1., 0., 0.],\n",
              "       [0., 1., 0., 0., 0., 0.],\n",
              "       [0., 0., 0., 0., 1., 0.]])"
            ]
          },
          "metadata": {},
          "execution_count": 6
        }
      ]
    },
    {
      "cell_type": "markdown",
      "source": [
        "Preparing and prefetching datasets for faster training"
      ],
      "metadata": {
        "id": "bbncSHJFxEYn"
      }
    },
    {
      "cell_type": "code",
      "source": [
        "import tensorflow as tf\n",
        "\n",
        "train_dataset = tf.data.Dataset.from_tensor_slices((train_text, train_labels_one_hot))\n",
        "test_dataset = tf.data.Dataset.from_tensor_slices((test_text, test_labels_one_hot))"
      ],
      "metadata": {
        "id": "Kxpz7MUZak3r"
      },
      "execution_count": null,
      "outputs": []
    },
    {
      "cell_type": "code",
      "source": [
        "train_dataset = train_dataset.batch(32).prefetch(tf.data.AUTOTUNE)\n",
        "test_dataset = test_dataset.batch(32).prefetch(tf.data.AUTOTUNE)"
      ],
      "metadata": {
        "id": "GMMwh0L0bAqV"
      },
      "execution_count": null,
      "outputs": []
    },
    {
      "cell_type": "markdown",
      "source": [
        "Average words per text sample"
      ],
      "metadata": {
        "id": "8quCDAp_jWuJ"
      }
    },
    {
      "cell_type": "code",
      "source": [
        "sum([len(x.split()) for x in train_text])/len(train_text)"
      ],
      "metadata": {
        "colab": {
          "base_uri": "https://localhost:8080/"
        },
        "id": "zup9Gbp2LM47",
        "outputId": "b8fbc343-7f53-45ac-9a21-f8d038419238"
      },
      "execution_count": null,
      "outputs": [
        {
          "output_type": "execute_result",
          "data": {
            "text/plain": [
              "19.215338569547786"
            ]
          },
          "metadata": {},
          "execution_count": 9
        }
      ]
    },
    {
      "cell_type": "markdown",
      "source": [
        "Words number that covers 95% of the text data"
      ],
      "metadata": {
        "id": "rbj6-iZhjZ6a"
      }
    },
    {
      "cell_type": "code",
      "source": [
        "np.percentile([len(x.split()) for x in train_text], 95)"
      ],
      "metadata": {
        "colab": {
          "base_uri": "https://localhost:8080/"
        },
        "id": "8P4yP4ggxKwK",
        "outputId": "56e55166-8ab5-46f6-a854-95765178cda0"
      },
      "execution_count": null,
      "outputs": [
        {
          "output_type": "execute_result",
          "data": {
            "text/plain": [
              "41.0"
            ]
          },
          "metadata": {},
          "execution_count": 10
        }
      ]
    },
    {
      "cell_type": "markdown",
      "source": [
        "## Model building and training"
      ],
      "metadata": {
        "id": "K0U3gnKexSAK"
      }
    },
    {
      "cell_type": "markdown",
      "source": [
        "Making text vectorizer layer"
      ],
      "metadata": {
        "id": "8U8VkhBfxeYv"
      }
    },
    {
      "cell_type": "code",
      "source": [
        "MAX_VOCAB_LENGTH = 68000\n",
        "MAX_SEQUENCE_LENGTH = 41\n",
        "\n",
        "text_vectorizer = tf.keras.layers.TextVectorization(max_tokens = MAX_VOCAB_LENGTH,\n",
        "                                                   output_sequence_length = MAX_SEQUENCE_LENGTH)\n",
        "\n",
        "text_vectorizer.adapt(train_text)"
      ],
      "metadata": {
        "id": "Y-A4s7c9Juwr"
      },
      "execution_count": null,
      "outputs": []
    },
    {
      "cell_type": "code",
      "source": [
        "words_in_vocab = text_vectorizer.get_vocabulary()\n",
        "top_5_words = words_in_vocab[:5]\n",
        "bottom_5_words = words_in_vocab[-5:]\n",
        "print(f\"Number of words in vocab: {len(words_in_vocab)}\")\n",
        "print(f\"Top 5 most common words: {top_5_words}\")\n",
        "print(f\"Bottom 5 least common words: {bottom_5_words}\")"
      ],
      "metadata": {
        "colab": {
          "base_uri": "https://localhost:8080/"
        },
        "id": "VzLHT2m0MWQe",
        "outputId": "d448dd43-4e55-40e1-8fdc-32a9d75e22e0"
      },
      "execution_count": null,
      "outputs": [
        {
          "output_type": "stream",
          "name": "stdout",
          "text": [
            "Number of words in vocab: 67951\n",
            "Top 5 most common words: ['', '[UNK]', 'i', 'feel', 'and']\n",
            "Bottom 5 least common words: ['aaaaah', 'aaaaaand', 'aaaaaaaall', 'aaaaaaaaaaaaaaaaggghhhh', 'aaaa']\n"
          ]
        }
      ]
    },
    {
      "cell_type": "code",
      "source": [
        "import random\n",
        "\n",
        "random_text = random.choice(train_text)\n",
        "print(f\"Original text:\\n{random_text}\\nVectorized text:\")\n",
        "text_vectorizer([random_text])"
      ],
      "metadata": {
        "colab": {
          "base_uri": "https://localhost:8080/"
        },
        "id": "oA4CelwkMDHI",
        "outputId": "9d9f1753-5437-4f43-a5f9-b3c17f8e7471"
      },
      "execution_count": null,
      "outputs": [
        {
          "output_type": "stream",
          "name": "stdout",
          "text": [
            "Original text:\n",
            "i feel i am so un useful on sunday nights i feel i do more chasing around of my children than socializing with the teens\n",
            "Vectorized text:\n"
          ]
        },
        {
          "output_type": "execute_result",
          "data": {
            "text/plain": [
              "<tf.Tensor: shape=(1, 41), dtype=int64, numpy=\n",
              "array([[   2,    3,    2,   24,   15, 1798,  576,   30, 1306, 1411,    2,\n",
              "           3,    2,   39,   37, 3799,  133,   10,   11,  402,   93, 6933,\n",
              "          25,    6, 4759,    0,    0,    0,    0,    0,    0,    0,    0,\n",
              "           0,    0,    0,    0,    0,    0,    0,    0]])>"
            ]
          },
          "metadata": {},
          "execution_count": 13
        }
      ]
    },
    {
      "cell_type": "markdown",
      "source": [
        "Making text embedding layer"
      ],
      "metadata": {
        "id": "jC54fGT0xqc4"
      }
    },
    {
      "cell_type": "code",
      "source": [
        "text_embedding = tf.keras.layers.Embedding(input_dim=MAX_VOCAB_LENGTH,\n",
        "                             output_dim=128)"
      ],
      "metadata": {
        "id": "fL0DyLY6NO6V"
      },
      "execution_count": null,
      "outputs": []
    },
    {
      "cell_type": "code",
      "source": [
        "random_text = random.choice(train_text)\n",
        "print(f\"Original text:\\n{random_text}\\nVectorized text:\")\n",
        "print(text_vectorizer([random_text]))\n",
        "print(\"Text embedding:\")\n",
        "text_embedding(text_vectorizer(random_text))"
      ],
      "metadata": {
        "colab": {
          "base_uri": "https://localhost:8080/"
        },
        "id": "JBIYZH3NOSyK",
        "outputId": "5087ff0d-e286-4519-f716-42f22992dea1"
      },
      "execution_count": null,
      "outputs": [
        {
          "output_type": "stream",
          "name": "stdout",
          "text": [
            "Original text:\n",
            "im terribly disappointed and yet i feel ludicrous saying so its a damn good excuse his father is having heart trouble may need repeat surgery\n",
            "Vectorized text:\n",
            "tf.Tensor(\n",
            "[[  17 1261  405    4  218    2    3 2148  341   15   81    7  832  110\n",
            "  1714  103  888   22  150  234 1419  213  104 2285 2137    0    0    0\n",
            "     0    0    0    0    0    0    0    0    0    0    0    0    0]], shape=(1, 41), dtype=int64)\n",
            "Text embedding:\n"
          ]
        },
        {
          "output_type": "execute_result",
          "data": {
            "text/plain": [
              "<tf.Tensor: shape=(41, 128), dtype=float32, numpy=\n",
              "array([[ 0.01029282,  0.02558963, -0.03156801, ...,  0.02796421,\n",
              "         0.02906498, -0.00204965],\n",
              "       [-0.00565909, -0.02650976,  0.00992889, ..., -0.03016945,\n",
              "         0.00012017,  0.04670367],\n",
              "       [-0.02311485,  0.01984605,  0.04970229, ...,  0.0373924 ,\n",
              "        -0.03912692, -0.03616142],\n",
              "       ...,\n",
              "       [ 0.02211178,  0.00935607,  0.04463864, ..., -0.03909401,\n",
              "         0.04629716,  0.04271359],\n",
              "       [ 0.02211178,  0.00935607,  0.04463864, ..., -0.03909401,\n",
              "         0.04629716,  0.04271359],\n",
              "       [ 0.02211178,  0.00935607,  0.04463864, ..., -0.03909401,\n",
              "         0.04629716,  0.04271359]], dtype=float32)>"
            ]
          },
          "metadata": {},
          "execution_count": 15
        }
      ]
    },
    {
      "cell_type": "markdown",
      "source": [
        "### Experimentation with different model architectures"
      ],
      "metadata": {
        "id": "L_wyNgg_xusQ"
      }
    },
    {
      "cell_type": "markdown",
      "source": [
        "Dense model"
      ],
      "metadata": {
        "id": "wBPYhlB6jwxG"
      }
    },
    {
      "cell_type": "code",
      "source": [
        "tf.random.set_seed(42)\n",
        "\n",
        "inputs = tf.keras.layers.Input(shape=(1,), dtype=\"string\")\n",
        "x = text_vectorizer(inputs)\n",
        "x = text_embedding(x)\n",
        "x = tf.keras.layers.GlobalAveragePooling1D()(x)\n",
        "x = tf.keras.layers.Dense(64, activation=\"relu\")(x)\n",
        "outputs = tf.keras.layers.Dense(len(emotions), activation=\"softmax\")(x)\n",
        "\n",
        "model_0 = tf.keras.Model(inputs, outputs)\n",
        "\n",
        "model_0.compile(loss=\"categorical_crossentropy\",\n",
        "                optimizer = tf.keras.optimizers.Adam(),\n",
        "                metrics=[\"accuracy\"])\n",
        "\n",
        "model_0.summary()\n",
        "\n",
        "checkpoint_filepath = '/ckpt/model_0_best.model.keras'\n",
        "model_checkpoint_callback = tf.keras.callbacks.ModelCheckpoint(\n",
        "    filepath=checkpoint_filepath,\n",
        "    monitor='val_accuracy',\n",
        "    mode='max',\n",
        "    save_best_only=True)\n",
        "\n",
        "model_0.fit(train_dataset,\n",
        "            epochs = 5,\n",
        "            validation_data = test_dataset,\n",
        "            callbacks = [model_checkpoint_callback])\n",
        "\n"
      ],
      "metadata": {
        "colab": {
          "base_uri": "https://localhost:8080/",
          "height": 565
        },
        "id": "bJQTCwkvOioB",
        "outputId": "87a0780e-fe11-4372-ca54-547c5eb32a92"
      },
      "execution_count": null,
      "outputs": [
        {
          "output_type": "display_data",
          "data": {
            "text/plain": [
              "\u001b[1mModel: \"functional\"\u001b[0m\n"
            ],
            "text/html": [
              "<pre style=\"white-space:pre;overflow-x:auto;line-height:normal;font-family:Menlo,'DejaVu Sans Mono',consolas,'Courier New',monospace\"><span style=\"font-weight: bold\">Model: \"functional\"</span>\n",
              "</pre>\n"
            ]
          },
          "metadata": {}
        },
        {
          "output_type": "display_data",
          "data": {
            "text/plain": [
              "┏━━━━━━━━━━━━━━━━━━━━━━━━━━━━━━━━━━━━━━┳━━━━━━━━━━━━━━━━━━━━━━━━━━━━━┳━━━━━━━━━━━━━━━━━┓\n",
              "┃\u001b[1m \u001b[0m\u001b[1mLayer (type)                        \u001b[0m\u001b[1m \u001b[0m┃\u001b[1m \u001b[0m\u001b[1mOutput Shape               \u001b[0m\u001b[1m \u001b[0m┃\u001b[1m \u001b[0m\u001b[1m        Param #\u001b[0m\u001b[1m \u001b[0m┃\n",
              "┡━━━━━━━━━━━━━━━━━━━━━━━━━━━━━━━━━━━━━━╇━━━━━━━━━━━━━━━━━━━━━━━━━━━━━╇━━━━━━━━━━━━━━━━━┩\n",
              "│ input_layer (\u001b[38;5;33mInputLayer\u001b[0m)             │ (\u001b[38;5;45mNone\u001b[0m, \u001b[38;5;34m1\u001b[0m)                   │               \u001b[38;5;34m0\u001b[0m │\n",
              "├──────────────────────────────────────┼─────────────────────────────┼─────────────────┤\n",
              "│ text_vectorization                   │ (\u001b[38;5;45mNone\u001b[0m, \u001b[38;5;34m41\u001b[0m)                  │               \u001b[38;5;34m0\u001b[0m │\n",
              "│ (\u001b[38;5;33mTextVectorization\u001b[0m)                  │                             │                 │\n",
              "├──────────────────────────────────────┼─────────────────────────────┼─────────────────┤\n",
              "│ embedding (\u001b[38;5;33mEmbedding\u001b[0m)                │ (\u001b[38;5;45mNone\u001b[0m, \u001b[38;5;34m41\u001b[0m, \u001b[38;5;34m128\u001b[0m)             │       \u001b[38;5;34m8,704,000\u001b[0m │\n",
              "├──────────────────────────────────────┼─────────────────────────────┼─────────────────┤\n",
              "│ global_average_pooling1d             │ (\u001b[38;5;45mNone\u001b[0m, \u001b[38;5;34m128\u001b[0m)                 │               \u001b[38;5;34m0\u001b[0m │\n",
              "│ (\u001b[38;5;33mGlobalAveragePooling1D\u001b[0m)             │                             │                 │\n",
              "├──────────────────────────────────────┼─────────────────────────────┼─────────────────┤\n",
              "│ dense (\u001b[38;5;33mDense\u001b[0m)                        │ (\u001b[38;5;45mNone\u001b[0m, \u001b[38;5;34m64\u001b[0m)                  │           \u001b[38;5;34m8,256\u001b[0m │\n",
              "├──────────────────────────────────────┼─────────────────────────────┼─────────────────┤\n",
              "│ dense_1 (\u001b[38;5;33mDense\u001b[0m)                      │ (\u001b[38;5;45mNone\u001b[0m, \u001b[38;5;34m6\u001b[0m)                   │             \u001b[38;5;34m390\u001b[0m │\n",
              "└──────────────────────────────────────┴─────────────────────────────┴─────────────────┘\n"
            ],
            "text/html": [
              "<pre style=\"white-space:pre;overflow-x:auto;line-height:normal;font-family:Menlo,'DejaVu Sans Mono',consolas,'Courier New',monospace\">┏━━━━━━━━━━━━━━━━━━━━━━━━━━━━━━━━━━━━━━┳━━━━━━━━━━━━━━━━━━━━━━━━━━━━━┳━━━━━━━━━━━━━━━━━┓\n",
              "┃<span style=\"font-weight: bold\"> Layer (type)                         </span>┃<span style=\"font-weight: bold\"> Output Shape                </span>┃<span style=\"font-weight: bold\">         Param # </span>┃\n",
              "┡━━━━━━━━━━━━━━━━━━━━━━━━━━━━━━━━━━━━━━╇━━━━━━━━━━━━━━━━━━━━━━━━━━━━━╇━━━━━━━━━━━━━━━━━┩\n",
              "│ input_layer (<span style=\"color: #0087ff; text-decoration-color: #0087ff\">InputLayer</span>)             │ (<span style=\"color: #00d7ff; text-decoration-color: #00d7ff\">None</span>, <span style=\"color: #00af00; text-decoration-color: #00af00\">1</span>)                   │               <span style=\"color: #00af00; text-decoration-color: #00af00\">0</span> │\n",
              "├──────────────────────────────────────┼─────────────────────────────┼─────────────────┤\n",
              "│ text_vectorization                   │ (<span style=\"color: #00d7ff; text-decoration-color: #00d7ff\">None</span>, <span style=\"color: #00af00; text-decoration-color: #00af00\">41</span>)                  │               <span style=\"color: #00af00; text-decoration-color: #00af00\">0</span> │\n",
              "│ (<span style=\"color: #0087ff; text-decoration-color: #0087ff\">TextVectorization</span>)                  │                             │                 │\n",
              "├──────────────────────────────────────┼─────────────────────────────┼─────────────────┤\n",
              "│ embedding (<span style=\"color: #0087ff; text-decoration-color: #0087ff\">Embedding</span>)                │ (<span style=\"color: #00d7ff; text-decoration-color: #00d7ff\">None</span>, <span style=\"color: #00af00; text-decoration-color: #00af00\">41</span>, <span style=\"color: #00af00; text-decoration-color: #00af00\">128</span>)             │       <span style=\"color: #00af00; text-decoration-color: #00af00\">8,704,000</span> │\n",
              "├──────────────────────────────────────┼─────────────────────────────┼─────────────────┤\n",
              "│ global_average_pooling1d             │ (<span style=\"color: #00d7ff; text-decoration-color: #00d7ff\">None</span>, <span style=\"color: #00af00; text-decoration-color: #00af00\">128</span>)                 │               <span style=\"color: #00af00; text-decoration-color: #00af00\">0</span> │\n",
              "│ (<span style=\"color: #0087ff; text-decoration-color: #0087ff\">GlobalAveragePooling1D</span>)             │                             │                 │\n",
              "├──────────────────────────────────────┼─────────────────────────────┼─────────────────┤\n",
              "│ dense (<span style=\"color: #0087ff; text-decoration-color: #0087ff\">Dense</span>)                        │ (<span style=\"color: #00d7ff; text-decoration-color: #00d7ff\">None</span>, <span style=\"color: #00af00; text-decoration-color: #00af00\">64</span>)                  │           <span style=\"color: #00af00; text-decoration-color: #00af00\">8,256</span> │\n",
              "├──────────────────────────────────────┼─────────────────────────────┼─────────────────┤\n",
              "│ dense_1 (<span style=\"color: #0087ff; text-decoration-color: #0087ff\">Dense</span>)                      │ (<span style=\"color: #00d7ff; text-decoration-color: #00d7ff\">None</span>, <span style=\"color: #00af00; text-decoration-color: #00af00\">6</span>)                   │             <span style=\"color: #00af00; text-decoration-color: #00af00\">390</span> │\n",
              "└──────────────────────────────────────┴─────────────────────────────┴─────────────────┘\n",
              "</pre>\n"
            ]
          },
          "metadata": {}
        },
        {
          "output_type": "display_data",
          "data": {
            "text/plain": [
              "\u001b[1m Total params: \u001b[0m\u001b[38;5;34m8,712,646\u001b[0m (33.24 MB)\n"
            ],
            "text/html": [
              "<pre style=\"white-space:pre;overflow-x:auto;line-height:normal;font-family:Menlo,'DejaVu Sans Mono',consolas,'Courier New',monospace\"><span style=\"font-weight: bold\"> Total params: </span><span style=\"color: #00af00; text-decoration-color: #00af00\">8,712,646</span> (33.24 MB)\n",
              "</pre>\n"
            ]
          },
          "metadata": {}
        },
        {
          "output_type": "display_data",
          "data": {
            "text/plain": [
              "\u001b[1m Trainable params: \u001b[0m\u001b[38;5;34m8,712,646\u001b[0m (33.24 MB)\n"
            ],
            "text/html": [
              "<pre style=\"white-space:pre;overflow-x:auto;line-height:normal;font-family:Menlo,'DejaVu Sans Mono',consolas,'Courier New',monospace\"><span style=\"font-weight: bold\"> Trainable params: </span><span style=\"color: #00af00; text-decoration-color: #00af00\">8,712,646</span> (33.24 MB)\n",
              "</pre>\n"
            ]
          },
          "metadata": {}
        },
        {
          "output_type": "display_data",
          "data": {
            "text/plain": [
              "\u001b[1m Non-trainable params: \u001b[0m\u001b[38;5;34m0\u001b[0m (0.00 B)\n"
            ],
            "text/html": [
              "<pre style=\"white-space:pre;overflow-x:auto;line-height:normal;font-family:Menlo,'DejaVu Sans Mono',consolas,'Courier New',monospace\"><span style=\"font-weight: bold\"> Non-trainable params: </span><span style=\"color: #00af00; text-decoration-color: #00af00\">0</span> (0.00 B)\n",
              "</pre>\n"
            ]
          },
          "metadata": {}
        },
        {
          "output_type": "stream",
          "name": "stdout",
          "text": [
            "Epoch 1/5\n",
            "\u001b[1m10421/10421\u001b[0m \u001b[32m━━━━━━━━━━━━━━━━━━━━\u001b[0m\u001b[37m\u001b[0m \u001b[1m108s\u001b[0m 10ms/step - accuracy: 0.7504 - loss: 0.6508 - val_accuracy: 0.8984 - val_loss: 0.2070\n",
            "Epoch 2/5\n",
            "\u001b[1m10421/10421\u001b[0m \u001b[32m━━━━━━━━━━━━━━━━━━━━\u001b[0m\u001b[37m\u001b[0m \u001b[1m141s\u001b[0m 10ms/step - accuracy: 0.9084 - loss: 0.1863 - val_accuracy: 0.8991 - val_loss: 0.2075\n",
            "Epoch 3/5\n",
            "\u001b[1m10421/10421\u001b[0m \u001b[32m━━━━━━━━━━━━━━━━━━━━\u001b[0m\u001b[37m\u001b[0m \u001b[1m100s\u001b[0m 10ms/step - accuracy: 0.9179 - loss: 0.1623 - val_accuracy: 0.8967 - val_loss: 0.2131\n",
            "Epoch 4/5\n",
            "\u001b[1m10421/10421\u001b[0m \u001b[32m━━━━━━━━━━━━━━━━━━━━\u001b[0m\u001b[37m\u001b[0m \u001b[1m103s\u001b[0m 10ms/step - accuracy: 0.9261 - loss: 0.1479 - val_accuracy: 0.8946 - val_loss: 0.2284\n",
            "Epoch 5/5\n",
            "\u001b[1m10421/10421\u001b[0m \u001b[32m━━━━━━━━━━━━━━━━━━━━\u001b[0m\u001b[37m\u001b[0m \u001b[1m103s\u001b[0m 10ms/step - accuracy: 0.9319 - loss: 0.1369 - val_accuracy: 0.8921 - val_loss: 0.2493\n"
          ]
        },
        {
          "output_type": "execute_result",
          "data": {
            "text/plain": [
              "<keras.src.callbacks.history.History at 0x7db10c21c8d0>"
            ]
          },
          "metadata": {},
          "execution_count": 17
        }
      ]
    },
    {
      "cell_type": "markdown",
      "source": [
        "LSTM model"
      ],
      "metadata": {
        "id": "GtZdF94pj0Du"
      }
    },
    {
      "cell_type": "code",
      "source": [
        "tf.random.set_seed(42)\n",
        "\n",
        "inputs = tf.keras.layers.Input(shape = (1,), dtype=\"string\")\n",
        "x = text_vectorizer(inputs)\n",
        "x = text_embedding(x)\n",
        "x = tf.keras.layers.LSTM(64)(x)\n",
        "x = tf.keras.layers.Dense(64, activation=\"relu\")(x)\n",
        "outputs = tf.keras.layers.Dense(len(emotions), activation=\"softmax\")(x)\n",
        "\n",
        "model_1 = tf.keras.Model(inputs, outputs)\n",
        "\n",
        "model_1.compile(loss=\"categorical_crossentropy\",\n",
        "                optimizer = tf.keras.optimizers.Adam(),\n",
        "                metrics = [\"accuracy\"])\n",
        "\n",
        "checkpoint_filepath = '/ckpt/model_1_best.model.keras'\n",
        "model_checkpoint_callback = tf.keras.callbacks.ModelCheckpoint(\n",
        "    filepath=checkpoint_filepath,\n",
        "    monitor='val_accuracy',\n",
        "    mode='max',\n",
        "    save_best_only=True)\n",
        "\n",
        "model_1.fit(train_dataset,\n",
        "            epochs = 5,\n",
        "            validation_data = test_dataset,\n",
        "            callbacks = [model_checkpoint_callback])\n"
      ],
      "metadata": {
        "colab": {
          "base_uri": "https://localhost:8080/"
        },
        "id": "xSx-DNiLWSTW",
        "outputId": "7a58d232-dd5d-447d-875b-224a4db849c9"
      },
      "execution_count": null,
      "outputs": [
        {
          "output_type": "stream",
          "name": "stdout",
          "text": [
            "Epoch 1/5\n",
            "\u001b[1m10421/10421\u001b[0m \u001b[32m━━━━━━━━━━━━━━━━━━━━\u001b[0m\u001b[37m\u001b[0m \u001b[1m129s\u001b[0m 12ms/step - accuracy: 0.8810 - loss: 0.2973 - val_accuracy: 0.9321 - val_loss: 0.1150\n",
            "Epoch 2/5\n",
            "\u001b[1m10421/10421\u001b[0m \u001b[32m━━━━━━━━━━━━━━━━━━━━\u001b[0m\u001b[37m\u001b[0m \u001b[1m135s\u001b[0m 13ms/step - accuracy: 0.9454 - loss: 0.0941 - val_accuracy: 0.9340 - val_loss: 0.1208\n",
            "Epoch 3/5\n",
            "\u001b[1m10421/10421\u001b[0m \u001b[32m━━━━━━━━━━━━━━━━━━━━\u001b[0m\u001b[37m\u001b[0m \u001b[1m131s\u001b[0m 12ms/step - accuracy: 0.9521 - loss: 0.0836 - val_accuracy: 0.9317 - val_loss: 0.1356\n",
            "Epoch 4/5\n",
            "\u001b[1m10421/10421\u001b[0m \u001b[32m━━━━━━━━━━━━━━━━━━━━\u001b[0m\u001b[37m\u001b[0m \u001b[1m142s\u001b[0m 12ms/step - accuracy: 0.9557 - loss: 0.0776 - val_accuracy: 0.9328 - val_loss: 0.1382\n",
            "Epoch 5/5\n",
            "\u001b[1m10421/10421\u001b[0m \u001b[32m━━━━━━━━━━━━━━━━━━━━\u001b[0m\u001b[37m\u001b[0m \u001b[1m136s\u001b[0m 13ms/step - accuracy: 0.9577 - loss: 0.0750 - val_accuracy: 0.9356 - val_loss: 0.1429\n"
          ]
        },
        {
          "output_type": "execute_result",
          "data": {
            "text/plain": [
              "<keras.src.callbacks.history.History at 0x7db18bb20c90>"
            ]
          },
          "metadata": {},
          "execution_count": 18
        }
      ]
    },
    {
      "cell_type": "markdown",
      "source": [
        "Bidirectional LSTM model"
      ],
      "metadata": {
        "id": "70wkapNLj3hE"
      }
    },
    {
      "cell_type": "code",
      "source": [
        "tf.random.set_seed(42)\n",
        "\n",
        "inputs = tf.keras.layers.Input(shape = (1,), dtype=\"string\")\n",
        "x = text_vectorizer(inputs)\n",
        "x = text_embedding(x)\n",
        "x = tf.keras.layers.Bidirectional(tf.keras.layers.LSTM(64))(x)\n",
        "outputs = tf.keras.layers.Dense(len(emotions), activation=\"softmax\")(x)\n",
        "\n",
        "model_2 = tf.keras.Model(inputs, outputs)\n",
        "\n",
        "model_2.compile(loss=\"categorical_crossentropy\",\n",
        "                optimizer = tf.keras.optimizers.Adam(),\n",
        "                metrics = [\"accuracy\"])\n",
        "\n",
        "checkpoint_filepath = '/ckpt/model_2_best.model.keras'\n",
        "model_checkpoint_callback = tf.keras.callbacks.ModelCheckpoint(\n",
        "    filepath=checkpoint_filepath,\n",
        "    monitor='val_accuracy',\n",
        "    mode='max',\n",
        "    save_best_only=True)\n",
        "\n",
        "model_2.fit(train_dataset,\n",
        "            epochs = 5,\n",
        "            validation_data = test_dataset,\n",
        "            callbacks = [model_checkpoint_callback])"
      ],
      "metadata": {
        "colab": {
          "base_uri": "https://localhost:8080/"
        },
        "id": "YAmT0jICki8B",
        "outputId": "fe9fae13-34ae-4109-fe56-e009d6a58bfe"
      },
      "execution_count": null,
      "outputs": [
        {
          "output_type": "stream",
          "name": "stdout",
          "text": [
            "Epoch 1/5\n",
            "\u001b[1m10421/10421\u001b[0m \u001b[32m━━━━━━━━━━━━━━━━━━━━\u001b[0m\u001b[37m\u001b[0m \u001b[1m160s\u001b[0m 15ms/step - accuracy: 0.9299 - loss: 0.1703 - val_accuracy: 0.9303 - val_loss: 0.1449\n",
            "Epoch 2/5\n",
            "\u001b[1m10421/10421\u001b[0m \u001b[32m━━━━━━━━━━━━━━━━━━━━\u001b[0m\u001b[37m\u001b[0m \u001b[1m197s\u001b[0m 15ms/step - accuracy: 0.9589 - loss: 0.0784 - val_accuracy: 0.9323 - val_loss: 0.1558\n",
            "Epoch 3/5\n",
            "\u001b[1m10421/10421\u001b[0m \u001b[32m━━━━━━━━━━━━━━━━━━━━\u001b[0m\u001b[37m\u001b[0m \u001b[1m157s\u001b[0m 15ms/step - accuracy: 0.9623 - loss: 0.0708 - val_accuracy: 0.9324 - val_loss: 0.1628\n",
            "Epoch 4/5\n",
            "\u001b[1m10421/10421\u001b[0m \u001b[32m━━━━━━━━━━━━━━━━━━━━\u001b[0m\u001b[37m\u001b[0m \u001b[1m146s\u001b[0m 14ms/step - accuracy: 0.9647 - loss: 0.0664 - val_accuracy: 0.9321 - val_loss: 0.1706\n",
            "Epoch 5/5\n",
            "\u001b[1m10421/10421\u001b[0m \u001b[32m━━━━━━━━━━━━━━━━━━━━\u001b[0m\u001b[37m\u001b[0m \u001b[1m146s\u001b[0m 14ms/step - accuracy: 0.9671 - loss: 0.0628 - val_accuracy: 0.9305 - val_loss: 0.1835\n"
          ]
        },
        {
          "output_type": "execute_result",
          "data": {
            "text/plain": [
              "<keras.src.callbacks.history.History at 0x7db0f4608c90>"
            ]
          },
          "metadata": {},
          "execution_count": 19
        }
      ]
    },
    {
      "cell_type": "markdown",
      "source": [
        "## Viewing and analyzing predictions"
      ],
      "metadata": {
        "id": "LRThQeLpxNqb"
      }
    },
    {
      "cell_type": "code",
      "source": [
        "best_model = tf.keras.models.load_model(\"/ckpt/model_1_best.model.keras\")"
      ],
      "metadata": {
        "id": "dh0hon5C6jkM"
      },
      "execution_count": null,
      "outputs": []
    },
    {
      "cell_type": "code",
      "source": [
        "def make_preds(model):\n",
        "  pred_probs = model.predict(test_dataset)\n",
        "  print(pred_probs.shape)\n",
        "  probs = np.argmax(pred_probs, axis=1)\n",
        "  return probs"
      ],
      "metadata": {
        "id": "QQQiu6bmn-7B"
      },
      "execution_count": null,
      "outputs": []
    },
    {
      "cell_type": "code",
      "source": [
        "preds = make_preds(best_model)\n",
        "preds[:100]"
      ],
      "metadata": {
        "colab": {
          "base_uri": "https://localhost:8080/"
        },
        "id": "hEtbRvupp8QM",
        "outputId": "44cb6a4a-2d31-4022-cc67-9104da973542"
      },
      "execution_count": null,
      "outputs": [
        {
          "output_type": "stream",
          "name": "stdout",
          "text": [
            "\u001b[1m2606/2606\u001b[0m \u001b[32m━━━━━━━━━━━━━━━━━━━━\u001b[0m\u001b[37m\u001b[0m \u001b[1m9s\u001b[0m 4ms/step\n",
            "(83362, 6)\n"
          ]
        },
        {
          "output_type": "execute_result",
          "data": {
            "text/plain": [
              "array([0, 0, 3, 0, 1, 2, 1, 1, 5, 0, 3, 0, 4, 1, 0, 2, 4, 0, 1, 5, 4, 4,\n",
              "       2, 0, 1, 0, 1, 3, 0, 0, 1, 0, 1, 0, 4, 1, 0, 1, 0, 0, 2, 0, 1, 0,\n",
              "       3, 3, 4, 1, 0, 4, 2, 4, 0, 0, 1, 1, 1, 0, 1, 1, 0, 1, 0, 3, 4, 2,\n",
              "       0, 0, 2, 0, 0, 4, 3, 3, 3, 3, 0, 0, 5, 2, 3, 0, 2, 4, 1, 1, 1, 0,\n",
              "       3, 1, 2, 4, 1, 1, 3, 0, 0, 0, 0, 0])"
            ]
          },
          "metadata": {},
          "execution_count": 22
        }
      ]
    },
    {
      "cell_type": "code",
      "source": [
        "from sklearn.metrics import accuracy_score\n",
        "\n",
        "accuracy_score(test_labels, preds)"
      ],
      "metadata": {
        "colab": {
          "base_uri": "https://localhost:8080/"
        },
        "id": "JigX87W0sZ_Q",
        "outputId": "205deabd-3385-43d4-d978-87293e6313e4"
      },
      "execution_count": null,
      "outputs": [
        {
          "output_type": "execute_result",
          "data": {
            "text/plain": [
              "0.93559415561047"
            ]
          },
          "metadata": {},
          "execution_count": 23
        }
      ]
    },
    {
      "cell_type": "code",
      "source": [
        "import random\n",
        "\n",
        "def view_predictions(test_text, test_labels, preds):\n",
        "  ind = random.randint(0, len(test_text)-10)\n",
        "  for i in range(ind, ind+10):\n",
        "    print(\"Text:\")\n",
        "    print(test_text[i])\n",
        "    print(f\"Emotion: {emotions[test_labels[i]]}, prediction: {emotions[preds[i]]}\")\n",
        "    print(\"\\n\")"
      ],
      "metadata": {
        "id": "s-G7jkWGsL3K"
      },
      "execution_count": null,
      "outputs": []
    },
    {
      "cell_type": "code",
      "source": [
        "view_predictions(test_text, test_labels, preds)"
      ],
      "metadata": {
        "colab": {
          "base_uri": "https://localhost:8080/"
        },
        "id": "gpu5m1QRuf8i",
        "outputId": "df068737-475d-4e19-e2d9-152a99ecef5b"
      },
      "execution_count": null,
      "outputs": [
        {
          "output_type": "stream",
          "name": "stdout",
          "text": [
            "Text:\n",
            "i make these kinds of cakes i feel more confident and every time the cakes looks better and more professional\n",
            "Emotion: joy, prediction: joy\n",
            "\n",
            "\n",
            "Text:\n",
            "i feel stupid and my sense of self is very low\n",
            "Emotion: sadness, prediction: sadness\n",
            "\n",
            "\n",
            "Text:\n",
            "i feel as if working at banana republic is allowing me to get a bit more outgoing and meet a lot of new people\n",
            "Emotion: joy, prediction: joy\n",
            "\n",
            "\n",
            "Text:\n",
            "ive been wondering if im getting anywhere being the impatient soul i am but woke in the night with a deeper understanding of something which has sobered me up a lot yet at the same time it feels hopeful\n",
            "Emotion: joy, prediction: joy\n",
            "\n",
            "\n",
            "Text:\n",
            "i was feeling pretty pleased too until i realized these problems i didnt have anything whatsoever for mad eye moody\n",
            "Emotion: joy, prediction: joy\n",
            "\n",
            "\n",
            "Text:\n",
            "i kind of feel fearful of starting\n",
            "Emotion: fear, prediction: fear\n",
            "\n",
            "\n",
            "Text:\n",
            "i usually joke around to deal with my health but the way i am feeling lately i have been very depressed because it seems like i get one thing started to straighten out and another thing starts up or i end up with something else\n",
            "Emotion: sadness, prediction: sadness\n",
            "\n",
            "\n",
            "Text:\n",
            "i feel myself tipping over into depression hopeless about knowing how to handle isaiah or help him or myself\n",
            "Emotion: sadness, prediction: sadness\n",
            "\n",
            "\n",
            "Text:\n",
            "i had been really looking forward to christmas this year feeling very festive then it hit me one day that christmas had been our unofficial d day\n",
            "Emotion: joy, prediction: joy\n",
            "\n",
            "\n",
            "Text:\n",
            "i feel that i m kind of accepted on this stage and i still want to keep learning and pushing forward\n",
            "Emotion: joy, prediction: joy\n",
            "\n",
            "\n"
          ]
        }
      ]
    },
    {
      "cell_type": "markdown",
      "source": [
        "## Using the model"
      ],
      "metadata": {
        "id": "9egdGG3oxAUk"
      }
    },
    {
      "cell_type": "code",
      "source": [
        "def predict_on_sentence(model, sent):\n",
        "  pred_probs = model.predict(tf.data.Dataset.from_tensor_slices([[sent]]))\n",
        "  return emotions[np.argmax(pred_probs)]"
      ],
      "metadata": {
        "id": "zQ5JrGvwv0mv"
      },
      "execution_count": null,
      "outputs": []
    },
    {
      "cell_type": "code",
      "source": [
        "predict_on_sentence(best_model, \"i won a lottery!\")"
      ],
      "metadata": {
        "colab": {
          "base_uri": "https://localhost:8080/",
          "height": 53
        },
        "id": "IIzqOZd3ujP-",
        "outputId": "485818ba-2ae1-4abe-f4f9-e6a4705c6ecc"
      },
      "execution_count": null,
      "outputs": [
        {
          "output_type": "stream",
          "name": "stdout",
          "text": [
            "\u001b[1m1/1\u001b[0m \u001b[32m━━━━━━━━━━━━━━━━━━━━\u001b[0m\u001b[37m\u001b[0m \u001b[1m0s\u001b[0m 31ms/step\n"
          ]
        },
        {
          "output_type": "execute_result",
          "data": {
            "text/plain": [
              "'joy'"
            ],
            "application/vnd.google.colaboratory.intrinsic+json": {
              "type": "string"
            }
          },
          "metadata": {},
          "execution_count": 31
        }
      ]
    },
    {
      "cell_type": "code",
      "source": [],
      "metadata": {
        "id": "dv8TM-WzvEPe"
      },
      "execution_count": null,
      "outputs": []
    }
  ]
}